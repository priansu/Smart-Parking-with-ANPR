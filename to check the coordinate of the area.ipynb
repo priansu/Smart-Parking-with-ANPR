{
 "cells": [
  {
   "cell_type": "code",
   "execution_count": null,
   "id": "17a21685",
   "metadata": {},
   "outputs": [],
   "source": [
    "#use this code to find coordinate of the area.\n",
    "import cv2\n",
    "import numpy as np\n",
    "\n",
    "# Initialize camera\n",
    "cap = cv2.VideoCapture(0)\n",
    "\n",
    "if not cap.isOpened():\n",
    "    print(\"Error: Camera not accessible.\")\n",
    "    exit()\n",
    "\n",
    "print(\"Press 'q' to exit.\")\n",
    "print(\"Draw a rectangle around the parking spot in the window and press Enter.\")\n",
    "\n",
    "def get_spots():\n",
    "    spots = []\n",
    "    def select_spot(event, x, y, flags, param):\n",
    "        nonlocal spot\n",
    "        if event == cv2.EVENT_LBUTTONDOWN:\n",
    "            spot = (x, y, 100, 50)  # Width, Height can be adjusted\n",
    "            spots.append(spot)\n",
    "    \n",
    "    cv2.namedWindow('Select Spot')\n",
    "    cv2.setMouseCallback('Select Spot', select_spot)\n",
    "\n",
    "    while True:\n",
    "        ret, frame = cap.read()\n",
    "        if not ret:\n",
    "            print(\"Error: Unable to capture frame.\")\n",
    "            break\n",
    "\n",
    "        for spot in spots:\n",
    "            x, y, w, h = spot\n",
    "            cv2.rectangle(frame, (x, y), (x + w, y + h), (0, 255, 0), 2)\n",
    "\n",
    "        cv2.imshow('Select Spot', frame)\n",
    "\n",
    "        if cv2.waitKey(1) & 0xFF == ord('q'):\n",
    "            break\n",
    "\n",
    "    cap.release()\n",
    "    cv2.destroyAllWindows()\n",
    "    return spots\n",
    "\n",
    "spots = get_spots()\n",
    "print(f\"Selected spots: {spots}\")\n"
   ]
  }
 ],
 "metadata": {
  "language_info": {
   "name": "python"
  }
 },
 "nbformat": 4,
 "nbformat_minor": 5
}
